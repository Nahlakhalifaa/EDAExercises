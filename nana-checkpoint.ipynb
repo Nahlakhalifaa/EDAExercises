{
 "cells": [
  {
   "cell_type": "code",
   "execution_count": 1,
   "id": "d2a3c5bc",
   "metadata": {},
   "outputs": [],
   "source": [
    "import pandas \n",
    "import pandas as pd"
   ]
  },
  {
   "cell_type": "code",
   "execution_count": 2,
   "id": "40664153",
   "metadata": {},
   "outputs": [],
   "source": [
    "s1 = pd.Series([10,20,30,40,50])"
   ]
  },
  {
   "cell_type": "code",
   "execution_count": 6,
   "id": "4f2bceaa",
   "metadata": {},
   "outputs": [
    {
     "name": "stdout",
     "output_type": "stream",
     "text": [
      "The series values are: [10 20 30 40 50]\n",
      "The index values are: [0 1 2 3 4]\n"
     ]
    }
   ],
   "source": [
    "print(\"The series values are:\", s1.values)\n",
    "print(\"The index values are:\", s1.index.values)"
   ]
  },
  {
   "cell_type": "code",
   "execution_count": 4,
   "id": "fc044b5e",
   "metadata": {},
   "outputs": [],
   "source": [
    "s2 = pd.Series([80,93,78,85,97], index=['English','Science','Social','Tamil','Maths'])"
   ]
  },
  {
   "cell_type": "code",
   "execution_count": 5,
   "id": "16b391eb",
   "metadata": {},
   "outputs": [
    {
     "name": "stdout",
     "output_type": "stream",
     "text": [
      "The Marks obtained by student are English    80\n",
      "Science    93\n",
      "Social     78\n",
      "Tamil      85\n",
      "Maths      97\n",
      "dtype: int64\n"
     ]
    }
   ],
   "source": [
    "print(\"The Marks obtained by student are\", s2)"
   ]
  },
  {
   "cell_type": "code",
   "execution_count": 7,
   "id": "ed50f9cd",
   "metadata": {},
   "outputs": [],
   "source": [
    "s2.name = 'Student Marks'\n",
    "s2.index.name = 'Subject'"
   ]
  },
  {
   "cell_type": "code",
   "execution_count": 8,
   "id": "47a5724c",
   "metadata": {},
   "outputs": [
    {
     "name": "stdout",
     "output_type": "stream",
     "text": [
      "The Marks obtained by student - subjectwise:\n",
      " Subject\n",
      "English    80\n",
      "Science    93\n",
      "Social     78\n",
      "Tamil      85\n",
      "Maths      97\n",
      "Name: Student Marks, dtype: int64\n"
     ]
    }
   ],
   "source": [
    "print(\"The Marks obtained by student - subjectwise:\\n\", s2)"
   ]
  },
  {
   "cell_type": "code",
   "execution_count": 9,
   "id": "de8ca784",
   "metadata": {},
   "outputs": [
    {
     "data": {
      "text/plain": [
       "80"
      ]
     },
     "execution_count": 9,
     "metadata": {},
     "output_type": "execute_result"
    }
   ],
   "source": [
    "s2[0]"
   ]
  },
  {
   "cell_type": "code",
   "execution_count": 10,
   "id": "0bbe80a0",
   "metadata": {},
   "outputs": [
    {
     "data": {
      "text/plain": [
       "1    20\n",
       "2    30\n",
       "3    40\n",
       "dtype: int64"
      ]
     },
     "execution_count": 10,
     "metadata": {},
     "output_type": "execute_result"
    }
   ],
   "source": [
    "s1[1:4]"
   ]
  },
  {
   "cell_type": "code",
   "execution_count": 11,
   "id": "461ec17e",
   "metadata": {},
   "outputs": [
    {
     "data": {
      "text/plain": [
       "85"
      ]
     },
     "execution_count": 11,
     "metadata": {},
     "output_type": "execute_result"
    }
   ],
   "source": [
    "s2['Tamil']"
   ]
  },
  {
   "cell_type": "code",
   "execution_count": 12,
   "id": "ea8a0f09",
   "metadata": {},
   "outputs": [],
   "source": [
    "dict_fruits = { 'Orange':80,\n",
    "          'Apples':210,\n",
    "          'Bananas':50,\n",
    "         'Grapes':90,\n",
    "         'Watermelon':70}"
   ]
  },
  {
   "cell_type": "code",
   "execution_count": 14,
   "id": "c1d5c30f",
   "metadata": {},
   "outputs": [],
   "source": [
    "fruits = pd.Series(dict_fruits)"
   ]
  },
  {
   "cell_type": "code",
   "execution_count": 15,
   "id": "5d55f084",
   "metadata": {},
   "outputs": [
    {
     "name": "stdout",
     "output_type": "stream",
     "text": [
      "Fruits and prices\n",
      " Orange         80\n",
      "Apples        210\n",
      "Bananas        50\n",
      "Grapes         90\n",
      "Watermelon     70\n",
      "dtype: int64\n"
     ]
    }
   ],
   "source": [
    "print(\"Fruits and prices\\n\", fruits)"
   ]
  },
  {
   "cell_type": "code",
   "execution_count": 16,
   "id": "df4a249a",
   "metadata": {},
   "outputs": [
    {
     "name": "stdout",
     "output_type": "stream",
     "text": [
      "The price per kg of grapes is: 90\n"
     ]
    }
   ],
   "source": [
    "print(\"The price per kg of grapes is:\", fruits['Grapes'])"
   ]
  },
  {
   "cell_type": "code",
   "execution_count": 17,
   "id": "cffaaf0d",
   "metadata": {},
   "outputs": [],
   "source": [
    "df_marks = pd.DataFrame(s2, columns=['Student1'])"
   ]
  },
  {
   "cell_type": "code",
   "execution_count": 18,
   "id": "9a291445",
   "metadata": {},
   "outputs": [
    {
     "name": "stdout",
     "output_type": "stream",
     "text": [
      "The dataframe created from series is\n",
      " Empty DataFrame\n",
      "Columns: [Student1]\n",
      "Index: []\n"
     ]
    }
   ],
   "source": [
    "print(\"The dataframe created from series is\\n\",df_marks)"
   ]
  },
  {
   "cell_type": "code",
   "execution_count": 19,
   "id": "f77fdc9e",
   "metadata": {},
   "outputs": [],
   "source": [
    "height = pd.Series([5.3, 6.2,5.8,5.0,5.5], index=['Person 1','Person 2','Person 3','Person 4','Person 5'])"
   ]
  },
  {
   "cell_type": "code",
   "execution_count": 20,
   "id": "bcd8ac92",
   "metadata": {},
   "outputs": [],
   "source": [
    "weight = pd.Series([65,89,75,60,59], index=['Person 1','Person 2','Person 3','Person 4','Person 5'])"
   ]
  },
  {
   "cell_type": "code",
   "execution_count": 21,
   "id": "02951436",
   "metadata": {},
   "outputs": [
    {
     "name": "stdout",
     "output_type": "stream",
     "text": [
      "The Person table details are:\n",
      "           height  weight\n",
      "Person 1     5.3      65\n",
      "Person 2     6.2      89\n",
      "Person 3     5.8      75\n",
      "Person 4     5.0      60\n",
      "Person 5     5.5      59\n"
     ]
    }
   ],
   "source": [
    "df_person = pd.DataFrame({'height': height, 'weight': weight})\n",
    "print(\"The Person table details are:\\n\", df_person)"
   ]
  },
  {
   "cell_type": "code",
   "execution_count": 22,
   "id": "be4652ac",
   "metadata": {},
   "outputs": [
    {
     "data": {
      "text/plain": [
       "'C:\\\\Users\\\\Nahla'"
      ]
     },
     "execution_count": 22,
     "metadata": {},
     "output_type": "execute_result"
    }
   ],
   "source": [
    "pwd"
   ]
  },
  {
   "cell_type": "code",
   "execution_count": null,
   "id": "7897f13e",
   "metadata": {},
   "outputs": [],
   "source": []
  }
 ],
 "metadata": {
  "kernelspec": {
   "display_name": "Python 3",
   "language": "python",
   "name": "python3"
  },
  "language_info": {
   "codemirror_mode": {
    "name": "ipython",
    "version": 3
   },
   "file_extension": ".py",
   "mimetype": "text/x-python",
   "name": "python",
   "nbconvert_exporter": "python",
   "pygments_lexer": "ipython3",
   "version": "3.8.8"
  }
 },
 "nbformat": 4,
 "nbformat_minor": 5
}
