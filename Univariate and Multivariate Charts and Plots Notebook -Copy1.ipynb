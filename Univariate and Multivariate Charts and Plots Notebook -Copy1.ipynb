{
 "cells": [
  {
   "cell_type": "markdown",
   "id": "3594d739",
   "metadata": {},
   "source": [
    "# Work-a-long Notebook for:\n",
    "## [Understand the Data With Univariate And Multivariate Charts and Plots in Python by Rashida Nasrin Sucky](https://towardsdatascience.com/understand-the-data-with-univariate-and-multivariate-charts-and-plots-in-python-3b9fcd68cd8) \n",
    "\n",
    "\n",
    "This notebook is designed to be used as you read through the article.  \n",
    "\n",
    "**Note:** This is not an exact one-to-one walkthrough.  You will find extra questions, extra python methods, and extra plots.  The goal is to help you better understand how to create questions about your data to discover correlations and patterns.  Also, this is NOT the only way to explore your data set.\n",
    "\n",
    "**Chart Context:** The [Heart dataset](https://www.kaggle.com/johnsmith88/heart-disease-dataset) is also part of the GitHub folder.  Be sure to explore the context provided with the dataset on Kaggle."
   ]
  },
  {
   "cell_type": "code",
   "execution_count": 17,
   "id": "547249a7",
   "metadata": {},
   "outputs": [
    {
     "data": {
      "text/html": [
       "<div>\n",
       "<style scoped>\n",
       "    .dataframe tbody tr th:only-of-type {\n",
       "        vertical-align: middle;\n",
       "    }\n",
       "\n",
       "    .dataframe tbody tr th {\n",
       "        vertical-align: top;\n",
       "    }\n",
       "\n",
       "    .dataframe thead th {\n",
       "        text-align: right;\n",
       "    }\n",
       "</style>\n",
       "<table border=\"1\" class=\"dataframe\">\n",
       "  <thead>\n",
       "    <tr style=\"text-align: right;\">\n",
       "      <th></th>\n",
       "      <th>age</th>\n",
       "      <th>sex</th>\n",
       "      <th>cp</th>\n",
       "      <th>trestbps</th>\n",
       "      <th>chol</th>\n",
       "      <th>fbs</th>\n",
       "      <th>restecg</th>\n",
       "      <th>thalach</th>\n",
       "      <th>exang</th>\n",
       "      <th>oldpeak</th>\n",
       "      <th>slope</th>\n",
       "      <th>ca</th>\n",
       "      <th>thal</th>\n",
       "      <th>target</th>\n",
       "    </tr>\n",
       "  </thead>\n",
       "  <tbody>\n",
       "    <tr>\n",
       "      <th>0</th>\n",
       "      <td>52</td>\n",
       "      <td>1</td>\n",
       "      <td>0</td>\n",
       "      <td>125</td>\n",
       "      <td>212</td>\n",
       "      <td>0</td>\n",
       "      <td>1</td>\n",
       "      <td>168</td>\n",
       "      <td>0</td>\n",
       "      <td>1.0</td>\n",
       "      <td>2</td>\n",
       "      <td>2</td>\n",
       "      <td>3</td>\n",
       "      <td>0</td>\n",
       "    </tr>\n",
       "    <tr>\n",
       "      <th>1</th>\n",
       "      <td>53</td>\n",
       "      <td>1</td>\n",
       "      <td>0</td>\n",
       "      <td>140</td>\n",
       "      <td>203</td>\n",
       "      <td>1</td>\n",
       "      <td>0</td>\n",
       "      <td>155</td>\n",
       "      <td>1</td>\n",
       "      <td>3.1</td>\n",
       "      <td>0</td>\n",
       "      <td>0</td>\n",
       "      <td>3</td>\n",
       "      <td>0</td>\n",
       "    </tr>\n",
       "    <tr>\n",
       "      <th>2</th>\n",
       "      <td>70</td>\n",
       "      <td>1</td>\n",
       "      <td>0</td>\n",
       "      <td>145</td>\n",
       "      <td>174</td>\n",
       "      <td>0</td>\n",
       "      <td>1</td>\n",
       "      <td>125</td>\n",
       "      <td>1</td>\n",
       "      <td>2.6</td>\n",
       "      <td>0</td>\n",
       "      <td>0</td>\n",
       "      <td>3</td>\n",
       "      <td>0</td>\n",
       "    </tr>\n",
       "    <tr>\n",
       "      <th>3</th>\n",
       "      <td>61</td>\n",
       "      <td>1</td>\n",
       "      <td>0</td>\n",
       "      <td>148</td>\n",
       "      <td>203</td>\n",
       "      <td>0</td>\n",
       "      <td>1</td>\n",
       "      <td>161</td>\n",
       "      <td>0</td>\n",
       "      <td>0.0</td>\n",
       "      <td>2</td>\n",
       "      <td>1</td>\n",
       "      <td>3</td>\n",
       "      <td>0</td>\n",
       "    </tr>\n",
       "    <tr>\n",
       "      <th>4</th>\n",
       "      <td>62</td>\n",
       "      <td>0</td>\n",
       "      <td>0</td>\n",
       "      <td>138</td>\n",
       "      <td>294</td>\n",
       "      <td>1</td>\n",
       "      <td>1</td>\n",
       "      <td>106</td>\n",
       "      <td>0</td>\n",
       "      <td>1.9</td>\n",
       "      <td>1</td>\n",
       "      <td>3</td>\n",
       "      <td>2</td>\n",
       "      <td>0</td>\n",
       "    </tr>\n",
       "    <tr>\n",
       "      <th>...</th>\n",
       "      <td>...</td>\n",
       "      <td>...</td>\n",
       "      <td>...</td>\n",
       "      <td>...</td>\n",
       "      <td>...</td>\n",
       "      <td>...</td>\n",
       "      <td>...</td>\n",
       "      <td>...</td>\n",
       "      <td>...</td>\n",
       "      <td>...</td>\n",
       "      <td>...</td>\n",
       "      <td>...</td>\n",
       "      <td>...</td>\n",
       "      <td>...</td>\n",
       "    </tr>\n",
       "    <tr>\n",
       "      <th>1020</th>\n",
       "      <td>59</td>\n",
       "      <td>1</td>\n",
       "      <td>1</td>\n",
       "      <td>140</td>\n",
       "      <td>221</td>\n",
       "      <td>0</td>\n",
       "      <td>1</td>\n",
       "      <td>164</td>\n",
       "      <td>1</td>\n",
       "      <td>0.0</td>\n",
       "      <td>2</td>\n",
       "      <td>0</td>\n",
       "      <td>2</td>\n",
       "      <td>1</td>\n",
       "    </tr>\n",
       "    <tr>\n",
       "      <th>1021</th>\n",
       "      <td>60</td>\n",
       "      <td>1</td>\n",
       "      <td>0</td>\n",
       "      <td>125</td>\n",
       "      <td>258</td>\n",
       "      <td>0</td>\n",
       "      <td>0</td>\n",
       "      <td>141</td>\n",
       "      <td>1</td>\n",
       "      <td>2.8</td>\n",
       "      <td>1</td>\n",
       "      <td>1</td>\n",
       "      <td>3</td>\n",
       "      <td>0</td>\n",
       "    </tr>\n",
       "    <tr>\n",
       "      <th>1022</th>\n",
       "      <td>47</td>\n",
       "      <td>1</td>\n",
       "      <td>0</td>\n",
       "      <td>110</td>\n",
       "      <td>275</td>\n",
       "      <td>0</td>\n",
       "      <td>0</td>\n",
       "      <td>118</td>\n",
       "      <td>1</td>\n",
       "      <td>1.0</td>\n",
       "      <td>1</td>\n",
       "      <td>1</td>\n",
       "      <td>2</td>\n",
       "      <td>0</td>\n",
       "    </tr>\n",
       "    <tr>\n",
       "      <th>1023</th>\n",
       "      <td>50</td>\n",
       "      <td>0</td>\n",
       "      <td>0</td>\n",
       "      <td>110</td>\n",
       "      <td>254</td>\n",
       "      <td>0</td>\n",
       "      <td>0</td>\n",
       "      <td>159</td>\n",
       "      <td>0</td>\n",
       "      <td>0.0</td>\n",
       "      <td>2</td>\n",
       "      <td>0</td>\n",
       "      <td>2</td>\n",
       "      <td>1</td>\n",
       "    </tr>\n",
       "    <tr>\n",
       "      <th>1024</th>\n",
       "      <td>54</td>\n",
       "      <td>1</td>\n",
       "      <td>0</td>\n",
       "      <td>120</td>\n",
       "      <td>188</td>\n",
       "      <td>0</td>\n",
       "      <td>1</td>\n",
       "      <td>113</td>\n",
       "      <td>0</td>\n",
       "      <td>1.4</td>\n",
       "      <td>1</td>\n",
       "      <td>1</td>\n",
       "      <td>3</td>\n",
       "      <td>0</td>\n",
       "    </tr>\n",
       "  </tbody>\n",
       "</table>\n",
       "<p>1025 rows × 14 columns</p>\n",
       "</div>"
      ],
      "text/plain": [
       "      age  sex  cp  trestbps  chol  fbs  restecg  thalach  exang  oldpeak  \\\n",
       "0      52    1   0       125   212    0        1      168      0      1.0   \n",
       "1      53    1   0       140   203    1        0      155      1      3.1   \n",
       "2      70    1   0       145   174    0        1      125      1      2.6   \n",
       "3      61    1   0       148   203    0        1      161      0      0.0   \n",
       "4      62    0   0       138   294    1        1      106      0      1.9   \n",
       "...   ...  ...  ..       ...   ...  ...      ...      ...    ...      ...   \n",
       "1020   59    1   1       140   221    0        1      164      1      0.0   \n",
       "1021   60    1   0       125   258    0        0      141      1      2.8   \n",
       "1022   47    1   0       110   275    0        0      118      1      1.0   \n",
       "1023   50    0   0       110   254    0        0      159      0      0.0   \n",
       "1024   54    1   0       120   188    0        1      113      0      1.4   \n",
       "\n",
       "      slope  ca  thal  target  \n",
       "0         2   2     3       0  \n",
       "1         0   0     3       0  \n",
       "2         0   0     3       0  \n",
       "3         2   1     3       0  \n",
       "4         1   3     2       0  \n",
       "...     ...  ..   ...     ...  \n",
       "1020      2   0     2       1  \n",
       "1021      1   1     3       0  \n",
       "1022      1   1     2       0  \n",
       "1023      2   0     2       1  \n",
       "1024      1   1     3       0  \n",
       "\n",
       "[1025 rows x 14 columns]"
      ]
     },
     "execution_count": 17,
     "metadata": {},
     "output_type": "execute_result"
    }
   ],
   "source": [
    "%matplotlib inline\n",
    "import matplotlib.pyplot as plt\n",
    "import seaborn as sns\n",
    "import pandas as pd\n",
    "from statsmodels import api as sm\n",
    "import numpy as np\n",
    "\n",
    "df = pd.read_csv(\"heart.csv\")\n",
    "df"
   ]
  },
  {
   "cell_type": "code",
   "execution_count": 18,
   "id": "0ab316bf",
   "metadata": {},
   "outputs": [],
   "source": [
    "# Note:  make sure you provide the correct file path for your 'df' variable."
   ]
  },
  {
   "cell_type": "code",
   "execution_count": 19,
   "id": "416d702d",
   "metadata": {},
   "outputs": [
    {
     "data": {
      "text/html": [
       "<div>\n",
       "<style scoped>\n",
       "    .dataframe tbody tr th:only-of-type {\n",
       "        vertical-align: middle;\n",
       "    }\n",
       "\n",
       "    .dataframe tbody tr th {\n",
       "        vertical-align: top;\n",
       "    }\n",
       "\n",
       "    .dataframe thead th {\n",
       "        text-align: right;\n",
       "    }\n",
       "</style>\n",
       "<table border=\"1\" class=\"dataframe\">\n",
       "  <thead>\n",
       "    <tr style=\"text-align: right;\">\n",
       "      <th></th>\n",
       "      <th>age</th>\n",
       "      <th>sex</th>\n",
       "      <th>cp</th>\n",
       "      <th>trestbps</th>\n",
       "      <th>chol</th>\n",
       "      <th>fbs</th>\n",
       "      <th>restecg</th>\n",
       "      <th>thalach</th>\n",
       "      <th>exang</th>\n",
       "      <th>oldpeak</th>\n",
       "      <th>slope</th>\n",
       "      <th>ca</th>\n",
       "      <th>thal</th>\n",
       "      <th>target</th>\n",
       "    </tr>\n",
       "  </thead>\n",
       "  <tbody>\n",
       "    <tr>\n",
       "      <th>0</th>\n",
       "      <td>52</td>\n",
       "      <td>1</td>\n",
       "      <td>0</td>\n",
       "      <td>125</td>\n",
       "      <td>212</td>\n",
       "      <td>0</td>\n",
       "      <td>1</td>\n",
       "      <td>168</td>\n",
       "      <td>0</td>\n",
       "      <td>1.0</td>\n",
       "      <td>2</td>\n",
       "      <td>2</td>\n",
       "      <td>3</td>\n",
       "      <td>0</td>\n",
       "    </tr>\n",
       "    <tr>\n",
       "      <th>1</th>\n",
       "      <td>53</td>\n",
       "      <td>1</td>\n",
       "      <td>0</td>\n",
       "      <td>140</td>\n",
       "      <td>203</td>\n",
       "      <td>1</td>\n",
       "      <td>0</td>\n",
       "      <td>155</td>\n",
       "      <td>1</td>\n",
       "      <td>3.1</td>\n",
       "      <td>0</td>\n",
       "      <td>0</td>\n",
       "      <td>3</td>\n",
       "      <td>0</td>\n",
       "    </tr>\n",
       "    <tr>\n",
       "      <th>2</th>\n",
       "      <td>70</td>\n",
       "      <td>1</td>\n",
       "      <td>0</td>\n",
       "      <td>145</td>\n",
       "      <td>174</td>\n",
       "      <td>0</td>\n",
       "      <td>1</td>\n",
       "      <td>125</td>\n",
       "      <td>1</td>\n",
       "      <td>2.6</td>\n",
       "      <td>0</td>\n",
       "      <td>0</td>\n",
       "      <td>3</td>\n",
       "      <td>0</td>\n",
       "    </tr>\n",
       "    <tr>\n",
       "      <th>3</th>\n",
       "      <td>61</td>\n",
       "      <td>1</td>\n",
       "      <td>0</td>\n",
       "      <td>148</td>\n",
       "      <td>203</td>\n",
       "      <td>0</td>\n",
       "      <td>1</td>\n",
       "      <td>161</td>\n",
       "      <td>0</td>\n",
       "      <td>0.0</td>\n",
       "      <td>2</td>\n",
       "      <td>1</td>\n",
       "      <td>3</td>\n",
       "      <td>0</td>\n",
       "    </tr>\n",
       "    <tr>\n",
       "      <th>4</th>\n",
       "      <td>62</td>\n",
       "      <td>0</td>\n",
       "      <td>0</td>\n",
       "      <td>138</td>\n",
       "      <td>294</td>\n",
       "      <td>1</td>\n",
       "      <td>1</td>\n",
       "      <td>106</td>\n",
       "      <td>0</td>\n",
       "      <td>1.9</td>\n",
       "      <td>1</td>\n",
       "      <td>3</td>\n",
       "      <td>2</td>\n",
       "      <td>0</td>\n",
       "    </tr>\n",
       "  </tbody>\n",
       "</table>\n",
       "</div>"
      ],
      "text/plain": [
       "   age  sex  cp  trestbps  chol  fbs  restecg  thalach  exang  oldpeak  slope  \\\n",
       "0   52    1   0       125   212    0        1      168      0      1.0      2   \n",
       "1   53    1   0       140   203    1        0      155      1      3.1      0   \n",
       "2   70    1   0       145   174    0        1      125      1      2.6      0   \n",
       "3   61    1   0       148   203    0        1      161      0      0.0      2   \n",
       "4   62    0   0       138   294    1        1      106      0      1.9      1   \n",
       "\n",
       "   ca  thal  target  \n",
       "0   2     3       0  \n",
       "1   0     3       0  \n",
       "2   0     3       0  \n",
       "3   1     3       0  \n",
       "4   3     2       0  "
      ]
     },
     "execution_count": 19,
     "metadata": {},
     "output_type": "execute_result"
    }
   ],
   "source": [
    "df.head()"
   ]
  },
  {
   "cell_type": "markdown",
   "id": "7df5409c",
   "metadata": {},
   "source": [
    "##### Question: (Answer to yourself)\n",
    "Have you looked at the context behind the data on kaggle? (link in top box)\n",
    "Do you know or have an understanding of each item being studied?\n",
    "If not, have you done some basic research yet?"
   ]
  },
  {
   "cell_type": "code",
   "execution_count": 20,
   "id": "3a92e3f2",
   "metadata": {},
   "outputs": [],
   "source": [
    "# The author of the article has already devised a few questions for us to work through.\n",
    "# As we continue, you will be asked questions about other items within the data.\n",
    "# This is to help you experience the question/answer phase, and help you better explore your data"
   ]
  },
  {
   "cell_type": "markdown",
   "id": "e737e424",
   "metadata": {},
   "source": [
    "### A Quick Note!\n",
    "\n",
    "The data in this article has already been cleaned up. \n",
    "The exact methods have not be disclosed.  In this notebook, we cleaned the data in a way we felt worked best.  However, the final outcome is 302 records instead of 303.  Please be aware of this slight discrepency when checking your answers with the walkthrough.  Your values might be slightly smaller, but the exploration process will still be of value to you.\n",
    "\n",
    "Data cleaning includes removing duplicate records, values can be updated, formatting the index names, etc.  We will cover this topic in more depth in the next lesson.  In the next few blocks, you will see a sneak peek of the cleaning process.  "
   ]
  },
  {
   "cell_type": "code",
   "execution_count": 21,
   "id": "240819d6",
   "metadata": {},
   "outputs": [
    {
     "data": {
      "text/plain": [
       "Index(['age', 'sex', 'cp', 'trestbps', 'chol', 'fbs', 'restecg', 'thalach',\n",
       "       'exang', 'oldpeak', 'slope', 'ca', 'thal', 'target'],\n",
       "      dtype='object')"
      ]
     },
     "execution_count": 21,
     "metadata": {},
     "output_type": "execute_result"
    }
   ],
   "source": [
    "# Print the column names  \n",
    "df.columns"
   ]
  },
  {
   "cell_type": "code",
   "execution_count": 22,
   "id": "d57db3a6",
   "metadata": {},
   "outputs": [
    {
     "data": {
      "text/plain": [
       "Index(['Age', 'Sex', 'Cp', 'Trestbps', 'Chol', 'Fbs', 'Restecg', 'Thalach',\n",
       "       'Exang', 'Oldpeak', 'Slope', 'Ca', 'Thal', 'Target'],\n",
       "      dtype='object')"
      ]
     },
     "execution_count": 22,
     "metadata": {},
     "output_type": "execute_result"
    }
   ],
   "source": [
    "# Note the difference between your column names and the names from the article\n",
    "# Since the names are strings, let's use a string method to make them match\n",
    "\n",
    "df.columns = df.columns.str.capitalize()\n",
    "df.columns"
   ]
  },
  {
   "cell_type": "code",
   "execution_count": 23,
   "id": "d639618d",
   "metadata": {},
   "outputs": [],
   "source": [
    "# Renaming columns for easier comprehension\n",
    "df = df.rename(columns={\"Cp\": \"ChestPain\", \"Trestbps\": \"RestBP\", \"Restecg\": \"RestECG\", \"Exang\":\"ExAng\"})"
   ]
  },
  {
   "cell_type": "code",
   "execution_count": 24,
   "id": "94860065",
   "metadata": {},
   "outputs": [
    {
     "data": {
      "text/plain": [
       "(1025, 14)"
      ]
     },
     "execution_count": 24,
     "metadata": {},
     "output_type": "execute_result"
    }
   ],
   "source": [
    "# Checking initial size of dataframe\n",
    "df.shape"
   ]
  },
  {
   "cell_type": "code",
   "execution_count": 25,
   "id": "982475f0",
   "metadata": {},
   "outputs": [
    {
     "name": "stdout",
     "output_type": "stream",
     "text": [
      "Number of duplicated rows:  (723, 14)\n"
     ]
    }
   ],
   "source": [
    "# Checking for duplicates\n",
    "duplicate_rows_df = df[df.duplicated()]\n",
    "print(\"Number of duplicated rows: \", duplicate_rows_df.shape)"
   ]
  },
  {
   "cell_type": "code",
   "execution_count": 26,
   "id": "e18cef84",
   "metadata": {},
   "outputs": [
    {
     "data": {
      "text/plain": [
       "(302, 14)"
      ]
     },
     "execution_count": 26,
     "metadata": {},
     "output_type": "execute_result"
    }
   ],
   "source": [
    "# Dropping the duplicates then rechecking the shape\n",
    "df = df.drop_duplicates()\n",
    "df.shape\n",
    "\n",
    "# Note, our final count is 302.  \n",
    "# The final count in the article is 303.  \n",
    "# This small discrepency should not affect your values enough to prevent you from walking through the artcle."
   ]
  },
  {
   "cell_type": "code",
   "execution_count": 27,
   "id": "2f5a2956",
   "metadata": {},
   "outputs": [],
   "source": [
    "# Updating the values in \"Sex\" where 0 = \"Female\" and 1 = \"Male\"\n",
    "\n",
    "df = df.replace({\"Sex\": {0: \"Female\", 1: \"Male\"}})"
   ]
  },
  {
   "cell_type": "code",
   "execution_count": 28,
   "id": "e9f87cbc",
   "metadata": {},
   "outputs": [],
   "source": [
    "# Updating the values in the \"Thal\" column to reflect what each value means.\n",
    "\n",
    "df = df.replace({\"Thal\": {1: \"Normal\", 2: \"Fixed\", 3: \"Reversable\", 0: \"Missing\"}})"
   ]
  },
  {
   "cell_type": "code",
   "execution_count": 29,
   "id": "cb2a5a26",
   "metadata": {},
   "outputs": [],
   "source": [
    "# Updating the values in the \"ChestPain\" column to reflect what each number means\n",
    "\n",
    "df = df.replace({\"ChestPain\" : {0 : \"asymptomatic\", 1 : \"nonanginal\", 2 : \"nontypical\", 3 : \"typical\"}})"
   ]
  },
  {
   "cell_type": "code",
   "execution_count": 30,
   "id": "273f20b6",
   "metadata": {},
   "outputs": [
    {
     "data": {
      "text/html": [
       "<div>\n",
       "<style scoped>\n",
       "    .dataframe tbody tr th:only-of-type {\n",
       "        vertical-align: middle;\n",
       "    }\n",
       "\n",
       "    .dataframe tbody tr th {\n",
       "        vertical-align: top;\n",
       "    }\n",
       "\n",
       "    .dataframe thead th {\n",
       "        text-align: right;\n",
       "    }\n",
       "</style>\n",
       "<table border=\"1\" class=\"dataframe\">\n",
       "  <thead>\n",
       "    <tr style=\"text-align: right;\">\n",
       "      <th></th>\n",
       "      <th>Age</th>\n",
       "      <th>Sex</th>\n",
       "      <th>ChestPain</th>\n",
       "      <th>RestBP</th>\n",
       "      <th>Chol</th>\n",
       "      <th>Fbs</th>\n",
       "      <th>RestECG</th>\n",
       "      <th>Thalach</th>\n",
       "      <th>ExAng</th>\n",
       "      <th>Oldpeak</th>\n",
       "      <th>Slope</th>\n",
       "      <th>Ca</th>\n",
       "      <th>Thal</th>\n",
       "      <th>Target</th>\n",
       "    </tr>\n",
       "  </thead>\n",
       "  <tbody>\n",
       "    <tr>\n",
       "      <th>0</th>\n",
       "      <td>52</td>\n",
       "      <td>Male</td>\n",
       "      <td>asymptomatic</td>\n",
       "      <td>125</td>\n",
       "      <td>212</td>\n",
       "      <td>0</td>\n",
       "      <td>1</td>\n",
       "      <td>168</td>\n",
       "      <td>0</td>\n",
       "      <td>1.0</td>\n",
       "      <td>2</td>\n",
       "      <td>2</td>\n",
       "      <td>Reversable</td>\n",
       "      <td>0</td>\n",
       "    </tr>\n",
       "    <tr>\n",
       "      <th>1</th>\n",
       "      <td>53</td>\n",
       "      <td>Male</td>\n",
       "      <td>asymptomatic</td>\n",
       "      <td>140</td>\n",
       "      <td>203</td>\n",
       "      <td>1</td>\n",
       "      <td>0</td>\n",
       "      <td>155</td>\n",
       "      <td>1</td>\n",
       "      <td>3.1</td>\n",
       "      <td>0</td>\n",
       "      <td>0</td>\n",
       "      <td>Reversable</td>\n",
       "      <td>0</td>\n",
       "    </tr>\n",
       "    <tr>\n",
       "      <th>2</th>\n",
       "      <td>70</td>\n",
       "      <td>Male</td>\n",
       "      <td>asymptomatic</td>\n",
       "      <td>145</td>\n",
       "      <td>174</td>\n",
       "      <td>0</td>\n",
       "      <td>1</td>\n",
       "      <td>125</td>\n",
       "      <td>1</td>\n",
       "      <td>2.6</td>\n",
       "      <td>0</td>\n",
       "      <td>0</td>\n",
       "      <td>Reversable</td>\n",
       "      <td>0</td>\n",
       "    </tr>\n",
       "    <tr>\n",
       "      <th>3</th>\n",
       "      <td>61</td>\n",
       "      <td>Male</td>\n",
       "      <td>asymptomatic</td>\n",
       "      <td>148</td>\n",
       "      <td>203</td>\n",
       "      <td>0</td>\n",
       "      <td>1</td>\n",
       "      <td>161</td>\n",
       "      <td>0</td>\n",
       "      <td>0.0</td>\n",
       "      <td>2</td>\n",
       "      <td>1</td>\n",
       "      <td>Reversable</td>\n",
       "      <td>0</td>\n",
       "    </tr>\n",
       "    <tr>\n",
       "      <th>4</th>\n",
       "      <td>62</td>\n",
       "      <td>Female</td>\n",
       "      <td>asymptomatic</td>\n",
       "      <td>138</td>\n",
       "      <td>294</td>\n",
       "      <td>1</td>\n",
       "      <td>1</td>\n",
       "      <td>106</td>\n",
       "      <td>0</td>\n",
       "      <td>1.9</td>\n",
       "      <td>1</td>\n",
       "      <td>3</td>\n",
       "      <td>Fixed</td>\n",
       "      <td>0</td>\n",
       "    </tr>\n",
       "  </tbody>\n",
       "</table>\n",
       "</div>"
      ],
      "text/plain": [
       "   Age     Sex     ChestPain  RestBP  Chol  Fbs  RestECG  Thalach  ExAng  \\\n",
       "0   52    Male  asymptomatic     125   212    0        1      168      0   \n",
       "1   53    Male  asymptomatic     140   203    1        0      155      1   \n",
       "2   70    Male  asymptomatic     145   174    0        1      125      1   \n",
       "3   61    Male  asymptomatic     148   203    0        1      161      0   \n",
       "4   62  Female  asymptomatic     138   294    1        1      106      0   \n",
       "\n",
       "   Oldpeak  Slope  Ca        Thal  Target  \n",
       "0      1.0      2   2  Reversable       0  \n",
       "1      3.1      0   0  Reversable       0  \n",
       "2      2.6      0   0  Reversable       0  \n",
       "3      0.0      2   1  Reversable       0  \n",
       "4      1.9      1   3       Fixed       0  "
      ]
     },
     "execution_count": 30,
     "metadata": {},
     "output_type": "execute_result"
    }
   ],
   "source": [
    "# testing replaced updates\n",
    "df.head()\n",
    "\n",
    "\n",
    "# Here ends the data cleaning section"
   ]
  },
  {
   "cell_type": "markdown",
   "id": "e40dc922",
   "metadata": {},
   "source": [
    "### Solve Some Questions"
   ]
  },
  {
   "cell_type": "markdown",
   "id": "31a3db20",
   "metadata": {},
   "source": [
    "### Question 1:  Find the population proportions with different types of blood disorders\n",
    "\n",
    "**Part A:** In this example we are going to use the \"Thal\" column.\n",
    "Follow along with the article for syntax and explanations of the output.\n",
    "\n",
    "*Remember:* with duplicated rows dropped, our final record count is 302 and the author's is 303."
   ]
  },
  {
   "cell_type": "code",
   "execution_count": 31,
   "id": "7062cb56",
   "metadata": {},
   "outputs": [
    {
     "data": {
      "text/plain": [
       "Age  Sex     ChestPain     RestBP  Chol  Fbs  RestECG  Thalach  ExAng  Oldpeak  Slope  Ca  Thal        Target\n",
       "29   Male    nonanginal    130     204   0    0        202      0      0.0      2      0   Fixed       1         1\n",
       "59   Male    nontypical    150     212   1    1        157      0      1.6      2      0   Fixed       1         1\n",
       "             nonanginal    140     221   0    1        164      1      0.0      2      0   Fixed       1         1\n",
       "             asymptomatic  170     326   0    0        140      1      3.4      0      0   Reversable  0         1\n",
       "                           164     176   1    0        90       0      1.0      1      2   Normal      0         1\n",
       "                                                                                                                ..\n",
       "51   Male    asymptomatic  140     299   0    1        173      1      1.6      2      0   Reversable  0         1\n",
       "                                   298   0    1        122      1      4.2      1      3   Reversable  0         1\n",
       "                                   261   0    0        186      1      0.0      2      0   Fixed       1         1\n",
       "     Female  nontypical    140     308   0    0        142      0      1.5      2      1   Fixed       1         1\n",
       "77   Male    asymptomatic  125     304   0    0        162      1      0.0      2      3   Fixed       0         1\n",
       "Length: 302, dtype: int64"
      ]
     },
     "execution_count": 31,
     "metadata": {},
     "output_type": "execute_result"
    }
   ],
   "source": [
    "# Definitions and Question:\n",
    "\n",
    "# Define 'value_counts()':\n",
    "df.value_counts()\n",
    "\n",
    "# Why is this method used as part of initalizing a new varible?\n"
   ]
  },
  {
   "cell_type": "code",
   "execution_count": 32,
   "id": "3576aab9",
   "metadata": {},
   "outputs": [
    {
     "data": {
      "text/plain": [
       "Fixed         165\n",
       "Reversable    117\n",
       "Normal         18\n",
       "Missing         2\n",
       "Name: Thal, dtype: int64"
      ]
     },
     "execution_count": 32,
     "metadata": {},
     "output_type": "execute_result"
    }
   ],
   "source": [
    "# Define a variable for the value counts of the Thal column.\n",
    "x = df.Thal.value_counts()\n",
    "x\n",
    "\n",
    "# Note: In the data set, some values were passed 0 rather than left missing.  \n",
    "# These values have been replaced with \"Missing\".\n",
    "# Having this already filled in, will not affect your walkthrough, at this point"
   ]
  },
  {
   "cell_type": "code",
   "execution_count": 36,
   "id": "0e605fc2",
   "metadata": {},
   "outputs": [
    {
     "data": {
      "text/plain": [
       "302"
      ]
     },
     "execution_count": 36,
     "metadata": {},
     "output_type": "execute_result"
    }
   ],
   "source": [
    "# Calculate the population proportion here:\n",
    "x.sum()\n"
   ]
  },
  {
   "cell_type": "code",
   "execution_count": 45,
   "id": "c750b408",
   "metadata": {},
   "outputs": [
    {
     "data": {
      "text/plain": [
       "30200"
      ]
     },
     "execution_count": 45,
     "metadata": {},
     "output_type": "execute_result"
    }
   ],
   "source": [
    "# Turn those proportions into percentages:\n",
    "x.sum()*(100)\n",
    "\n"
   ]
  },
  {
   "cell_type": "markdown",
   "id": "d7b4c762",
   "metadata": {},
   "source": [
    "**Part B:**  Let's examine the proportions of other populations within this dataset.\n",
    "\n",
    "Let's look at \"ExAng\" or, as the provided context informs us, exercise induced angina.\n",
    "\n",
    "We are going to follow the steps provided with the \"Thal\" values."
   ]
  },
  {
   "cell_type": "code",
   "execution_count": 50,
   "id": "8b76d6d7",
   "metadata": {},
   "outputs": [
    {
     "data": {
      "text/plain": [
       "0    203\n",
       "1     99\n",
       "Name: ExAng, dtype: int64"
      ]
     },
     "execution_count": 50,
     "metadata": {},
     "output_type": "execute_result"
    }
   ],
   "source": [
    "# Define a variable for the value counts Exang of the  column.\n",
    "\n",
    "y = df.ExAng.value_counts()\n",
    "y"
   ]
  },
  {
   "cell_type": "code",
   "execution_count": 55,
   "id": "efdfea87",
   "metadata": {},
   "outputs": [
    {
     "data": {
      "text/plain": [
       "<bound method NDFrame._add_numeric_operations.<locals>.sum of 0    203\n",
       "1     99\n",
       "Name: ExAng, dtype: int64>"
      ]
     },
     "execution_count": 55,
     "metadata": {},
     "output_type": "execute_result"
    }
   ],
   "source": [
    "# Calculate the population proportions:\n",
    "y.sum\n",
    "\n",
    "\n",
    "# Look at the context to see what 1 and 0 mean."
   ]
  },
  {
   "cell_type": "code",
   "execution_count": 60,
   "id": "6de7044b",
   "metadata": {},
   "outputs": [
    {
     "data": {
      "text/plain": [
       "<bound method NDFrame._add_numeric_operations.<locals>.sum of 0    203\n",
       "1     99\n",
       "Name: ExAng, dtype: int64>"
      ]
     },
     "execution_count": 60,
     "metadata": {},
     "output_type": "execute_result"
    }
   ],
   "source": [
    "# Turn those propotions into percentages:\n",
    "y.sum \n"
   ]
  },
  {
   "cell_type": "markdown",
   "id": "704f6bfa",
   "metadata": {},
   "source": [
    "**Part C:**  Select one of the other populations to examine."
   ]
  },
  {
   "cell_type": "code",
   "execution_count": 61,
   "id": "05e49218",
   "metadata": {},
   "outputs": [
    {
     "data": {
      "text/plain": [
       "204    6\n",
       "197    6\n",
       "234    6\n",
       "269    5\n",
       "212    5\n",
       "      ..\n",
       "215    1\n",
       "210    1\n",
       "200    1\n",
       "195    1\n",
       "417    1\n",
       "Name: Chol, Length: 152, dtype: int64"
      ]
     },
     "execution_count": 61,
     "metadata": {},
     "output_type": "execute_result"
    }
   ],
   "source": [
    "# Define a variable for the value counts of the your column.\n",
    "\n",
    "z = df.Chol.value_counts()\n",
    "z"
   ]
  },
  {
   "cell_type": "code",
   "execution_count": 63,
   "id": "86b86095",
   "metadata": {},
   "outputs": [
    {
     "data": {
      "text/plain": [
       "<bound method NDFrame._add_numeric_operations.<locals>.sum of 204    6\n",
       "197    6\n",
       "234    6\n",
       "269    5\n",
       "212    5\n",
       "      ..\n",
       "215    1\n",
       "210    1\n",
       "200    1\n",
       "195    1\n",
       "417    1\n",
       "Name: Chol, Length: 152, dtype: int64>"
      ]
     },
     "execution_count": 63,
     "metadata": {},
     "output_type": "execute_result"
    }
   ],
   "source": [
    "\n",
    "# Calculate the population proportions:\n",
    "z.sum \n",
    "\n",
    "# Does the context provide you with any information about the values?."
   ]
  },
  {
   "cell_type": "code",
   "execution_count": null,
   "id": "6679c499",
   "metadata": {},
   "outputs": [],
   "source": [
    "# Turn those propotions into percentages:"
   ]
  },
  {
   "cell_type": "markdown",
   "id": "fa68b8ef",
   "metadata": {},
   "source": [
    "### Question 2: Find the minimum, maximum, average, and standard deviation of Cholesterol data.\n",
    "\n",
    "Remember: Our total is 302, not 303."
   ]
  },
  {
   "cell_type": "code",
   "execution_count": 64,
   "id": "47eb75f3",
   "metadata": {},
   "outputs": [
    {
     "data": {
      "text/plain": [
       "count    302.000000\n",
       "mean     246.500000\n",
       "std       51.753489\n",
       "min      126.000000\n",
       "25%      211.000000\n",
       "50%      240.500000\n",
       "75%      274.750000\n",
       "max      564.000000\n",
       "Name: Chol, dtype: float64"
      ]
     },
     "execution_count": 64,
     "metadata": {},
     "output_type": "execute_result"
    }
   ],
   "source": [
    "# using only the Cholesterol column in the dataset, apply the describe function.\n",
    "\n",
    "df[\"Chol\"].describe()"
   ]
  },
  {
   "cell_type": "markdown",
   "id": "4dd6ad23",
   "metadata": {},
   "source": [
    "### Question 3: Make a plot of the distribution of the Cholesterol data.\n",
    "\n",
    "**Part A:** Plot the Cholestorol data"
   ]
  },
  {
   "cell_type": "code",
   "execution_count": 80,
   "id": "ad73996b",
   "metadata": {},
   "outputs": [
    {
     "data": {
      "text/plain": [
       "<AxesSubplot:xlabel='Chol', ylabel='Count'>"
      ]
     },
     "execution_count": 80,
     "metadata": {},
     "output_type": "execute_result"
    },
    {
     "data": {
      "image/png": "[encoded data removed]",
      "text/plain": [
       "<Figure size 432x288 with 1 Axes>"
      ]
     },
     "metadata": {
      "needs_background": "light"
     },
     "output_type": "display_data"
    }
   ],
   "source": [
    "# Plot the distribution here:\n",
    "\n",
    "sns.histplot(df.Chol.dropna())\n",
    "\n",
    "# Why is this a \"histplot\" and not a \"distplot\"? it is  normalize the statistic computed within each bin to estimate frequency  \n",
    "# According to the seaborn (sns) documentation, \n",
    "#  the \"distplot\" is a depricated function and will be removed in a future version.\n",
    "# So let's explore other options in this learning space.\n",
    "\n",
    "# Could also try to use sns.histplot(df.Chol.dropna())"
   ]
  },
  {
   "cell_type": "code",
   "execution_count": null,
   "id": "99adcd81",
   "metadata": {},
   "outputs": [],
   "source": [
    "# Do you see any outliers?no\n"
   ]
  },
  {
   "cell_type": "code",
   "execution_count": 66,
   "id": "fe25d610",
   "metadata": {},
   "outputs": [
    {
     "data": {
      "text/plain": [
       "<AxesSubplot:xlabel='Chol', ylabel='Count'>"
      ]
     },
     "execution_count": 66,
     "metadata": {},
     "output_type": "execute_result"
    },
    {
     "data": {
      "image/png": "[encoded data removed]",
      "text/plain": [
       "<Figure size 432x288 with 1 Axes>"
      ]
     },
     "metadata": {
      "needs_background": "light"
     },
     "output_type": "display_data"
    }
   ],
   "source": [
    "# Want the histogram with the standard deviation curve on the same plot? \n",
    "\n",
    "# Here is they syntax:\n",
    "sns.histplot(data=df, x=\"Chol\", kde=True)"
   ]
  },
  {
   "cell_type": "markdown",
   "id": "589eaae8",
   "metadata": {},
   "source": [
    "[Documentation on the histplot](https://seaborn.pydata.org/generated/seaborn.histplot.html) to better understand the syntax."
   ]
  },
  {
   "cell_type": "markdown",
   "id": "fb864fc4",
   "metadata": {},
   "source": [
    "**Part B:** Describe and Plot the Resting Heart Rate values"
   ]
  },
  {
   "cell_type": "code",
   "execution_count": 67,
   "id": "600c0159",
   "metadata": {},
   "outputs": [
    {
     "data": {
      "text/plain": [
       "count    302.000000\n",
       "mean     131.602649\n",
       "std       17.563394\n",
       "min       94.000000\n",
       "25%      120.000000\n",
       "50%      130.000000\n",
       "75%      140.000000\n",
       "max      200.000000\n",
       "Name: RestBP, dtype: float64"
      ]
     },
     "execution_count": 67,
     "metadata": {},
     "output_type": "execute_result"
    }
   ],
   "source": [
    "# code the describe() for RestBP\n",
    "df[\"RestBP\"].describe()"
   ]
  },
  {
   "cell_type": "code",
   "execution_count": 68,
   "id": "e6abc7d1",
   "metadata": {},
   "outputs": [
    {
     "data": {
      "text/plain": [
       "<seaborn.axisgrid.FacetGrid at 0x27fc3cc94f0>"
      ]
     },
     "execution_count": 68,
     "metadata": {},
     "output_type": "execute_result"
    },
    {
     "data": {
      "image/png": "[encoded data removed]",
      "text/plain": [
       "<Figure size 360x360 with 1 Axes>"
      ]
     },
     "metadata": {
      "needs_background": "light"
     },
     "output_type": "display_data"
    }
   ],
   "source": [
    "# Let's plot The resting heart rate, \"RestBP\".  \n",
    "#You can choose to plot using \"histplot\" or \"displot\".  Your choice.\n",
    "sns.displot(df.RestBP.dropna())"
   ]
  },
  {
   "cell_type": "code",
   "execution_count": null,
   "id": "2f5f5169",
   "metadata": {},
   "outputs": [],
   "source": [
    "# Any outliers?"
   ]
  },
  {
   "cell_type": "markdown",
   "id": "3ae44e95",
   "metadata": {},
   "source": [
    "**Part C:** Describe and Plot the values you selected in Question 1 part c."
   ]
  },
  {
   "cell_type": "code",
   "execution_count": 69,
   "id": "5518859b",
   "metadata": {},
   "outputs": [
    {
     "data": {
      "text/plain": [
       "<seaborn.axisgrid.FacetGrid at 0x27fc3cbddf0>"
      ]
     },
     "execution_count": 69,
     "metadata": {},
     "output_type": "execute_result"
    },
    {
     "data": {
      "image/png": "[encoded data removed]",
      "text/plain": [
       "<Figure size 360x360 with 1 Axes>"
      ]
     },
     "metadata": {
      "needs_background": "light"
     },
     "output_type": "display_data"
    }
   ],
   "source": [
    "# Plot Part C here: \n",
    "sns.displot(df.RestBP.dropna())"
   ]
  },
  {
   "cell_type": "markdown",
   "id": "616f8dbd",
   "metadata": {},
   "source": [
    "### Question 4: Find the mean of the RestBP and calculate the population proportion of the people who have the higher RestBP than the mean RestBP."
   ]
  },
  {
   "cell_type": "code",
   "execution_count": 75,
   "id": "9c9cf569",
   "metadata": {},
   "outputs": [
    {
     "data": {
      "text/plain": [
       "141.8957554045825"
      ]
     },
     "execution_count": 75,
     "metadata": {},
     "output_type": "execute_result"
    }
   ],
   "source": [
    "# Calculate the mean of the RestBp and print it\n",
    "\n",
    "df[\"RestBP\"].describe().mean()"
   ]
  },
  {
   "cell_type": "code",
   "execution_count": 73,
   "id": "4ba8a136",
   "metadata": {},
   "outputs": [],
   "source": [
    "# Question: Is the .dropna() siginificant or necessary for calculating the mean_rbp?"
   ]
  },
  {
   "cell_type": "code",
   "execution_count": null,
   "id": "5181aed0",
   "metadata": {},
   "outputs": [],
   "source": [
    "# Calculate population proportion of people who have higher RestBP than the average\n",
    "\n",
    "\n",
    "# Questions: \n",
    "\n",
    "# 1. Translate this line of code in plain English?\n",
    "\n",
    "# 2.  Break this line and examine your results.  What did you change?  What happened?\n"
   ]
  },
  {
   "cell_type": "markdown",
   "id": "239b8b9e",
   "metadata": {},
   "source": [
    "### Question 5: Plot the Cholesterol data against the age group"
   ]
  },
  {
   "cell_type": "code",
   "execution_count": 76,
   "id": "505ad95e",
   "metadata": {},
   "outputs": [
    {
     "data": {
      "text/plain": [
       "<AxesSubplot:xlabel='agegrp', ylabel='Chol'>"
      ]
     },
     "execution_count": 76,
     "metadata": {},
     "output_type": "execute_result"
    },
    {
     "data": {
      "image/png": "[encoded data removed]",
      "text/plain": [
       "<Figure size 864x360 with 1 Axes>"
      ]
     },
     "metadata": {
      "needs_background": "light"
     },
     "output_type": "display_data"
    }
   ],
   "source": [
    "df[\"agegrp\"]=pd.cut(df.Age, [29,40,50,60,70,80])\n",
    "plt.figure(figsize=(12,5))\n",
    "sns.boxplot(x = \"agegrp\", y = \"Chol\", data=df)"
   ]
  },
  {
   "cell_type": "code",
   "execution_count": null,
   "id": "b710447c",
   "metadata": {},
   "outputs": [],
   "source": [
    "# Questions for you to answer:\n",
    "\n",
    "# Looking at the code that was used to create the box plot, \n",
    "#   explain what the following code means in your own words:\n",
    "\n",
    "# 1. pandas.cut():when you need to segment and sort data values into bins\n",
    "\n",
    "# 2. Looking at the cut() method signature, what is a \"bin\":  sequence of scalars\n",
    "\n",
    "# 3. plt.figure():\n",
    "\n",
    "# 3 A - in the code above, what do the numbers in figsize mean?  What happens if you change them?\n",
    "\n",
    "# 4. sns.boxplot(x = ??, y = ??, data= ??):\n"
   ]
  },
  {
   "cell_type": "code",
   "execution_count": null,
   "id": "02f4b76f",
   "metadata": {},
   "outputs": [],
   "source": [
    "# Combine sex and cholesterol data here:\n",
    "\n",
    "\n",
    "\n",
    "\n",
    "# Why did the author run this: df[\"Sex1\"] = df.Sex.replace({1: \"Male\", 0: \"Female\"})\n",
    "\n",
    "# What does that line mean, in your own words:\n",
    "\n",
    "\n",
    "# There is a new argument in the boxplot function.  Look up what \"hue\" means."
   ]
  },
  {
   "cell_type": "code",
   "execution_count": null,
   "id": "2bcd4065",
   "metadata": {},
   "outputs": [],
   "source": [
    "# How does the sns.boxplot(x = \"Sex1\", y = \"Age\", data=df) differ from the one in the cell above?\n",
    "\n",
    "# What information does this provide you?"
   ]
  },
  {
   "cell_type": "markdown",
   "id": "54a126dc",
   "metadata": {},
   "source": [
    "### Question 6:  Make a chart to show the number of people having each type of chest pain"
   ]
  },
  {
   "cell_type": "code",
   "execution_count": 79,
   "id": "63cff4a2",
   "metadata": {},
   "outputs": [
    {
     "data": {
      "text/html": [
       "<div>\n",
       "<style scoped>\n",
       "    .dataframe tbody tr th:only-of-type {\n",
       "        vertical-align: middle;\n",
       "    }\n",
       "\n",
       "    .dataframe tbody tr th {\n",
       "        vertical-align: top;\n",
       "    }\n",
       "\n",
       "    .dataframe thead th {\n",
       "        text-align: right;\n",
       "    }\n",
       "</style>\n",
       "<table border=\"1\" class=\"dataframe\">\n",
       "  <thead>\n",
       "    <tr style=\"text-align: right;\">\n",
       "      <th>ChestPain</th>\n",
       "      <th>asymptomatic</th>\n",
       "      <th>nonanginal</th>\n",
       "      <th>nontypical</th>\n",
       "      <th>typical</th>\n",
       "    </tr>\n",
       "    <tr>\n",
       "      <th>agegrp</th>\n",
       "      <th></th>\n",
       "      <th></th>\n",
       "      <th></th>\n",
       "      <th></th>\n",
       "    </tr>\n",
       "  </thead>\n",
       "  <tbody>\n",
       "    <tr>\n",
       "      <th>(29, 40]</th>\n",
       "      <td>6.0</td>\n",
       "      <td>2.0</td>\n",
       "      <td>6.0</td>\n",
       "      <td>3.0</td>\n",
       "    </tr>\n",
       "    <tr>\n",
       "      <th>(40, 50]</th>\n",
       "      <td>29.0</td>\n",
       "      <td>20.0</td>\n",
       "      <td>25.0</td>\n",
       "      <td>2.0</td>\n",
       "    </tr>\n",
       "    <tr>\n",
       "      <th>(50, 60]</th>\n",
       "      <td>65.0</td>\n",
       "      <td>20.0</td>\n",
       "      <td>34.0</td>\n",
       "      <td>10.0</td>\n",
       "    </tr>\n",
       "    <tr>\n",
       "      <th>(60, 70]</th>\n",
       "      <td>41.0</td>\n",
       "      <td>5.0</td>\n",
       "      <td>19.0</td>\n",
       "      <td>8.0</td>\n",
       "    </tr>\n",
       "    <tr>\n",
       "      <th>(70, 80]</th>\n",
       "      <td>2.0</td>\n",
       "      <td>2.0</td>\n",
       "      <td>2.0</td>\n",
       "      <td>NaN</td>\n",
       "    </tr>\n",
       "  </tbody>\n",
       "</table>\n",
       "</div>"
      ],
      "text/plain": [
       "ChestPain  asymptomatic  nonanginal  nontypical  typical\n",
       "agegrp                                                  \n",
       "(29, 40]            6.0         2.0         6.0      3.0\n",
       "(40, 50]           29.0        20.0        25.0      2.0\n",
       "(50, 60]           65.0        20.0        34.0     10.0\n",
       "(60, 70]           41.0         5.0        19.0      8.0\n",
       "(70, 80]            2.0         2.0         2.0      NaN"
      ]
     },
     "execution_count": 79,
     "metadata": {},
     "output_type": "execute_result"
    }
   ],
   "source": [
    "df.groupby(\"agegrp\")[\"ChestPain\"].value_counts().unstack()"
   ]
  },
  {
   "cell_type": "code",
   "execution_count": 78,
   "id": "bf4b4ed9",
   "metadata": {},
   "outputs": [
    {
     "data": {
      "text/plain": [
       "agegrp    ChestPain   \n",
       "(29, 40]  asymptomatic     6\n",
       "          nontypical       6\n",
       "          typical          3\n",
       "          nonanginal       2\n",
       "(40, 50]  asymptomatic    29\n",
       "          nontypical      25\n",
       "          nonanginal      20\n",
       "          typical          2\n",
       "(50, 60]  asymptomatic    65\n",
       "          nontypical      34\n",
       "          nonanginal      20\n",
       "          typical         10\n",
       "(60, 70]  asymptomatic    41\n",
       "          nontypical      19\n",
       "          typical          8\n",
       "          nonanginal       5\n",
       "(70, 80]  asymptomatic     2\n",
       "          nonanginal       2\n",
       "          nontypical       2\n",
       "Name: ChestPain, dtype: int64"
      ]
     },
     "execution_count": 78,
     "metadata": {},
     "output_type": "execute_result"
    }
   ],
   "source": [
    "# Run the following line of code:\n",
    "\n",
    "df.groupby(\"agegrp\")[\"ChestPain\"].value_counts()\n",
    "\n",
    "# Question:  \n",
    "# 1. How does the output vary between these two lines?  "
   ]
  },
  {
   "cell_type": "markdown",
   "id": "7eb8c233",
   "metadata": {},
   "source": [
    "### Question 7: Add on to your chart, but segregate by gender."
   ]
  },
  {
   "cell_type": "code",
   "execution_count": 77,
   "id": "d516057d",
   "metadata": {},
   "outputs": [
    {
     "name": "stdout",
     "output_type": "stream",
     "text": [
      "ChestPain        asymptomatic  nonanginal  nontypical  typical\n",
      "agegrp   Sex                                                  \n",
      "(29, 40] Female           1.0         1.0         3.0      NaN\n",
      "         Male             5.0         1.0         3.0      3.0\n",
      "(40, 50] Female           6.0         8.0         8.0      NaN\n",
      "         Male            23.0        12.0        17.0      2.0\n",
      "(50, 60] Female          15.0         6.0        12.0      2.0\n",
      "         Male            50.0        14.0        22.0      8.0\n",
      "(60, 70] Female          16.0         1.0        10.0      2.0\n",
      "         Male            25.0         4.0         9.0      6.0\n",
      "(70, 80] Female           1.0         2.0         2.0      NaN\n",
      "         Male             1.0         NaN         NaN      NaN\n"
     ]
    }
   ],
   "source": [
    "dx = df.dropna().groupby([\"agegrp\", \"Sex\"])[\"ChestPain\"].value_counts().unstack()\n",
    "print(dx)"
   ]
  },
  {
   "cell_type": "markdown",
   "id": "7a437830",
   "metadata": {},
   "source": [
    "### Question 8:  Present population proportion for each type of chest pain"
   ]
  },
  {
   "cell_type": "code",
   "execution_count": null,
   "id": "7bb8ec74",
   "metadata": {},
   "outputs": [],
   "source": [
    "dx = dx.apply(lambda x: x/x.sum(), axis=1)\n",
    "print(dx)"
   ]
  },
  {
   "cell_type": "markdown",
   "id": "362afca8",
   "metadata": {},
   "source": [
    "Note on your output, as we made this notebook, we discovered that the ariticle dataset had been cleaned prior to our usage.  The methods used were not disclosed, so we cleaned ourselves.  Which could explain the discrepencies in this chart."
   ]
  },
  {
   "cell_type": "code",
   "execution_count": null,
   "id": "77718b7e",
   "metadata": {},
   "outputs": [],
   "source": [
    "# Questions: In your own words:\n",
    "\n",
    "# 1. What does the apply() function do?\n",
    "using a loop to iterate over a DataFrame.\n",
    "\n",
    "# 2. What is lambda? \n",
    "it represents an anonymous."
   ]
  },
  {
   "cell_type": "code",
   "execution_count": null,
   "id": "6eb6f8e0",
   "metadata": {},
   "outputs": [],
   "source": []
  }
 ],
 "metadata": {
  "kernelspec": {
   "display_name": "Python 3",
   "language": "python",
   "name": "python3"
  },
  "language_info": {
   "codemirror_mode": {
    "name": "ipython",
    "version": 3
   },
   "file_extension": ".py",
   "mimetype": "text/x-python",
   "name": "python",
   "nbconvert_exporter": "python",
   "pygments_lexer": "ipython3",
   "version": "3.8.8"
  }
 },
 "nbformat": 4,
 "nbformat_minor": 5
}
